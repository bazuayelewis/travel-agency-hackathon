{
  "cells": [
    {
      "cell_type": "markdown",
      "metadata": {},
      "source": [
        "## Travel Agency Analysis"
      ]
    },
    {
      "cell_type": "code",
      "execution_count": null,
      "metadata": {},
      "outputs": [],
      "source": [
        "# Data retrieval\n",
        "\n",
        "from utils.config import BASE_URL, ENDPOINT\n",
        "from utils.api_manager import get_data\n",
        "from utils.data_extractor import extract_countries_data\n",
        "\n",
        "def main():\n",
        "    url = f\"{BASE_URL}/{ENDPOINT}\"\n",
        "    countries_data = get_data(url)\n",
        "\n",
        "    extracted_data = extract_countries_data(countries_data)\n",
        "\n",
        "    return extracted_data\n",
        "\n",
        "if __name__ == \"__main__\":\n",
        "    extracted_data = main()\n",
        "    print(len(extracted_data))\n",
        "    print(extracted_data)"
      ]
    },
    {
      "cell_type": "code",
      "execution_count": 3,
      "metadata": {
        "id": "n9bxZHvgAZkP"
      },
      "outputs": [],
      "source": [
        "import pandas as pd"
      ]
    },
    {
      "cell_type": "code",
      "execution_count": 5,
      "metadata": {
        "colab": {
          "base_uri": "https://localhost:8080/",
          "height": 1000
        },
        "id": "rouiEP6m_yIV",
        "outputId": "3f78244f-1b1c-4f18-f6ab-978140803686"
      },
      "outputs": [
        {
          "data": {
            "text/html": [
              "<div>\n",
              "<style scoped>\n",
              "    .dataframe tbody tr th:only-of-type {\n",
              "        vertical-align: middle;\n",
              "    }\n",
              "\n",
              "    .dataframe tbody tr th {\n",
              "        vertical-align: top;\n",
              "    }\n",
              "\n",
              "    .dataframe thead th {\n",
              "        text-align: right;\n",
              "    }\n",
              "</style>\n",
              "<table border=\"1\" class=\"dataframe\">\n",
              "  <thead>\n",
              "    <tr style=\"text-align: right;\">\n",
              "      <th></th>\n",
              "      <th>country_name</th>\n",
              "      <th>independence</th>\n",
              "      <th>united_nation_members</th>\n",
              "      <th>startOfWeek</th>\n",
              "      <th>official_country_name</th>\n",
              "      <th>common_native_name</th>\n",
              "      <th>currency_code</th>\n",
              "      <th>currency_name</th>\n",
              "      <th>currency_symbol</th>\n",
              "      <th>country_code</th>\n",
              "      <th>capital</th>\n",
              "      <th>region</th>\n",
              "      <th>sub_region</th>\n",
              "      <th>languages</th>\n",
              "      <th>area</th>\n",
              "      <th>population</th>\n",
              "      <th>continent</th>\n",
              "    </tr>\n",
              "  </thead>\n",
              "  <tbody>\n",
              "    <tr>\n",
              "      <th>0</th>\n",
              "      <td>South Georgia</td>\n",
              "      <td>False</td>\n",
              "      <td>False</td>\n",
              "      <td>monday</td>\n",
              "      <td>South Georgia and the South Sandwich Islands</td>\n",
              "      <td>South Georgia</td>\n",
              "      <td>SHP</td>\n",
              "      <td>Saint Helena pound</td>\n",
              "      <td>£</td>\n",
              "      <td>+500</td>\n",
              "      <td>King Edward Point</td>\n",
              "      <td>Antarctic</td>\n",
              "      <td>None</td>\n",
              "      <td>English</td>\n",
              "      <td>3903.0</td>\n",
              "      <td>30</td>\n",
              "      <td>Antarctica</td>\n",
              "    </tr>\n",
              "    <tr>\n",
              "      <th>1</th>\n",
              "      <td>Grenada</td>\n",
              "      <td>True</td>\n",
              "      <td>True</td>\n",
              "      <td>monday</td>\n",
              "      <td>Grenada</td>\n",
              "      <td>Grenada</td>\n",
              "      <td>XCD</td>\n",
              "      <td>Eastern Caribbean dollar</td>\n",
              "      <td>$</td>\n",
              "      <td>+1473</td>\n",
              "      <td>St. George's</td>\n",
              "      <td>Americas</td>\n",
              "      <td>Caribbean</td>\n",
              "      <td>English</td>\n",
              "      <td>344.0</td>\n",
              "      <td>112519</td>\n",
              "      <td>North America</td>\n",
              "    </tr>\n",
              "    <tr>\n",
              "      <th>2</th>\n",
              "      <td>Switzerland</td>\n",
              "      <td>True</td>\n",
              "      <td>True</td>\n",
              "      <td>monday</td>\n",
              "      <td>Swiss Confederation</td>\n",
              "      <td>Suisse, Schweiz, Svizzera, Svizra</td>\n",
              "      <td>CHF</td>\n",
              "      <td>Swiss franc</td>\n",
              "      <td>Fr.</td>\n",
              "      <td>+41</td>\n",
              "      <td>Bern</td>\n",
              "      <td>Europe</td>\n",
              "      <td>Western Europe</td>\n",
              "      <td>French, Swiss German, Italian, Romansh</td>\n",
              "      <td>41284.0</td>\n",
              "      <td>8654622</td>\n",
              "      <td>Europe</td>\n",
              "    </tr>\n",
              "    <tr>\n",
              "      <th>3</th>\n",
              "      <td>Sierra Leone</td>\n",
              "      <td>True</td>\n",
              "      <td>True</td>\n",
              "      <td>monday</td>\n",
              "      <td>Republic of Sierra Leone</td>\n",
              "      <td>Sierra Leone</td>\n",
              "      <td>SLL</td>\n",
              "      <td>Sierra Leonean leone</td>\n",
              "      <td>Le</td>\n",
              "      <td>+232</td>\n",
              "      <td>Freetown</td>\n",
              "      <td>Africa</td>\n",
              "      <td>Western Africa</td>\n",
              "      <td>English</td>\n",
              "      <td>71740.0</td>\n",
              "      <td>7976985</td>\n",
              "      <td>Africa</td>\n",
              "    </tr>\n",
              "    <tr>\n",
              "      <th>4</th>\n",
              "      <td>Hungary</td>\n",
              "      <td>True</td>\n",
              "      <td>True</td>\n",
              "      <td>monday</td>\n",
              "      <td>Hungary</td>\n",
              "      <td>Magyarország</td>\n",
              "      <td>HUF</td>\n",
              "      <td>Hungarian forint</td>\n",
              "      <td>Ft</td>\n",
              "      <td>+36</td>\n",
              "      <td>Budapest</td>\n",
              "      <td>Europe</td>\n",
              "      <td>Central Europe</td>\n",
              "      <td>Hungarian</td>\n",
              "      <td>93028.0</td>\n",
              "      <td>9749763</td>\n",
              "      <td>Europe</td>\n",
              "    </tr>\n",
              "  </tbody>\n",
              "</table>\n",
              "</div>"
            ],
            "text/plain": [
              "    country_name independence  united_nation_members startOfWeek  \\\n",
              "0  South Georgia        False                  False      monday   \n",
              "1        Grenada         True                   True      monday   \n",
              "2    Switzerland         True                   True      monday   \n",
              "3   Sierra Leone         True                   True      monday   \n",
              "4        Hungary         True                   True      monday   \n",
              "\n",
              "                          official_country_name  \\\n",
              "0  South Georgia and the South Sandwich Islands   \n",
              "1                                       Grenada   \n",
              "2                           Swiss Confederation   \n",
              "3                      Republic of Sierra Leone   \n",
              "4                                       Hungary   \n",
              "\n",
              "                  common_native_name currency_code             currency_name  \\\n",
              "0                      South Georgia           SHP        Saint Helena pound   \n",
              "1                            Grenada           XCD  Eastern Caribbean dollar   \n",
              "2  Suisse, Schweiz, Svizzera, Svizra           CHF               Swiss franc   \n",
              "3                       Sierra Leone           SLL      Sierra Leonean leone   \n",
              "4                       Magyarország           HUF          Hungarian forint   \n",
              "\n",
              "  currency_symbol country_code            capital     region      sub_region  \\\n",
              "0               £         +500  King Edward Point  Antarctic            None   \n",
              "1               $        +1473       St. George's   Americas       Caribbean   \n",
              "2             Fr.          +41               Bern     Europe  Western Europe   \n",
              "3              Le         +232           Freetown     Africa  Western Africa   \n",
              "4              Ft          +36           Budapest     Europe  Central Europe   \n",
              "\n",
              "                                languages     area  population      continent  \n",
              "0                                 English   3903.0          30     Antarctica  \n",
              "1                                 English    344.0      112519  North America  \n",
              "2  French, Swiss German, Italian, Romansh  41284.0     8654622         Europe  \n",
              "3                                 English  71740.0     7976985         Africa  \n",
              "4                               Hungarian  93028.0     9749763         Europe  "
            ]
          },
          "execution_count": 5,
          "metadata": {},
          "output_type": "execute_result"
        }
      ],
      "source": [
        "df = pd.DataFrame(extracted_data)\n",
        "df.head()"
      ]
    },
    {
      "cell_type": "code",
      "execution_count": 41,
      "metadata": {},
      "outputs": [
        {
          "data": {
            "text/html": [
              "<div>\n",
              "<style scoped>\n",
              "    .dataframe tbody tr th:only-of-type {\n",
              "        vertical-align: middle;\n",
              "    }\n",
              "\n",
              "    .dataframe tbody tr th {\n",
              "        vertical-align: top;\n",
              "    }\n",
              "\n",
              "    .dataframe thead th {\n",
              "        text-align: right;\n",
              "    }\n",
              "</style>\n",
              "<table border=\"1\" class=\"dataframe\">\n",
              "  <thead>\n",
              "    <tr style=\"text-align: right;\">\n",
              "      <th></th>\n",
              "      <th>count</th>\n",
              "      <th>mean</th>\n",
              "      <th>std</th>\n",
              "      <th>min</th>\n",
              "      <th>25%</th>\n",
              "      <th>50%</th>\n",
              "      <th>75%</th>\n",
              "      <th>max</th>\n",
              "    </tr>\n",
              "  </thead>\n",
              "  <tbody>\n",
              "    <tr>\n",
              "      <th>area</th>\n",
              "      <td>250.0</td>\n",
              "      <td>6.005848e+05</td>\n",
              "      <td>1.909805e+06</td>\n",
              "      <td>0.44</td>\n",
              "      <td>1194.25</td>\n",
              "      <td>64929.5</td>\n",
              "      <td>372726.00</td>\n",
              "      <td>1.709824e+07</td>\n",
              "    </tr>\n",
              "    <tr>\n",
              "      <th>population</th>\n",
              "      <td>250.0</td>\n",
              "      <td>3.111089e+07</td>\n",
              "      <td>1.296673e+08</td>\n",
              "      <td>0.00</td>\n",
              "      <td>221099.50</td>\n",
              "      <td>4912244.0</td>\n",
              "      <td>19025766.75</td>\n",
              "      <td>1.402112e+09</td>\n",
              "    </tr>\n",
              "  </tbody>\n",
              "</table>\n",
              "</div>"
            ],
            "text/plain": [
              "            count          mean           std   min        25%        50%  \\\n",
              "area        250.0  6.005848e+05  1.909805e+06  0.44    1194.25    64929.5   \n",
              "population  250.0  3.111089e+07  1.296673e+08  0.00  221099.50  4912244.0   \n",
              "\n",
              "                    75%           max  \n",
              "area          372726.00  1.709824e+07  \n",
              "population  19025766.75  1.402112e+09  "
            ]
          },
          "execution_count": 41,
          "metadata": {},
          "output_type": "execute_result"
        }
      ],
      "source": [
        "df.describe().T"
      ]
    },
    {
      "cell_type": "markdown",
      "metadata": {
        "id": "aQR2Lpae2H2j"
      },
      "source": [
        "### 1. How many countries speak french?"
      ]
    },
    {
      "cell_type": "code",
      "execution_count": 9,
      "metadata": {
        "colab": {
          "base_uri": "https://localhost:8080/"
        },
        "id": "wo8oyZNrAsX1",
        "outputId": "21bd0f7d-d3e0-4b7b-9552-6275b5a1967c"
      },
      "outputs": [
        {
          "name": "stdout",
          "output_type": "stream",
          "text": [
            "Number of countries that speak French: 46\n"
          ]
        }
      ],
      "source": [
        "# Filter for countries where 'languages' column contains 'French'\n",
        "\n",
        "french_speaking_countries = df[df['languages'].fillna('').str.contains('French')]\n",
        "\n",
        "# Display the results\n",
        "print(\"Number of countries that speak French:\", len(french_speaking_countries))\n"
      ]
    },
    {
      "cell_type": "markdown",
      "metadata": {
        "id": "bp3no_cg7WEe"
      },
      "source": [
        "### 2. How many countries speak English?"
      ]
    },
    {
      "cell_type": "code",
      "execution_count": 10,
      "metadata": {
        "colab": {
          "base_uri": "https://localhost:8080/"
        },
        "id": "35i1K7l548t2",
        "outputId": "0a7c508e-fa30-42d4-dfbe-31fbb9af6867"
      },
      "outputs": [
        {
          "name": "stdout",
          "output_type": "stream",
          "text": [
            "Number of countries that speak English: 91\n"
          ]
        }
      ],
      "source": [
        "# Filter for countries where 'languages' column contains 'English'\n",
        "\n",
        "english_speaking_countries = df[df['languages'].fillna('').str.contains('English')]\n",
        "\n",
        "# Display the results\n",
        "print(\"Number of countries that speak English:\", len(english_speaking_countries))"
      ]
    },
    {
      "cell_type": "markdown",
      "metadata": {
        "id": "muiswOiP_pv9"
      },
      "source": [
        "### 3. How many countries have more than one official language?"
      ]
    },
    {
      "cell_type": "code",
      "execution_count": 11,
      "metadata": {
        "colab": {
          "base_uri": "https://localhost:8080/"
        },
        "id": "iLvv1CTj7ogq",
        "outputId": "cc0da707-eede-4c9d-d999-a3e90a51d163"
      },
      "outputs": [
        {
          "name": "stdout",
          "output_type": "stream",
          "text": [
            "Number of countries with more that one official language: 96\n"
          ]
        }
      ],
      "source": [
        "# Count countries with more than one official language\n",
        "more_than_one_offLan = df[df['languages'].fillna('').str.contains(',')]\n",
        "\n",
        "print(\"Number of countries with more that one official language:\", len(more_than_one_offLan))"
      ]
    },
    {
      "cell_type": "markdown",
      "metadata": {
        "id": "KRXBTiTYCvcW"
      },
      "source": [
        "### 4. How many countries have the Euro as their official currency?"
      ]
    },
    {
      "cell_type": "code",
      "execution_count": 13,
      "metadata": {
        "colab": {
          "base_uri": "https://localhost:8080/"
        },
        "id": "Vvtk6xxi9E5C",
        "outputId": "ab873d13-b2b9-463e-da81-968c657c0700"
      },
      "outputs": [
        {
          "name": "stdout",
          "output_type": "stream",
          "text": [
            "Number of countries with Euro as official currency: 36\n"
          ]
        }
      ],
      "source": [
        "# Count countries with Euro as official currency\n",
        "num_countries_with_euro = df[df['currency_name'] == 'Euro'].shape[0]\n",
        "\n",
        "# Display the results\n",
        "print(\"Number of countries with Euro as official currency:\", num_countries_with_euro)"
      ]
    },
    {
      "cell_type": "markdown",
      "metadata": {
        "id": "Zt0IPXNaFRsh"
      },
      "source": [
        "### 5. How many countries are from West Europe?"
      ]
    },
    {
      "cell_type": "code",
      "execution_count": 14,
      "metadata": {
        "colab": {
          "base_uri": "https://localhost:8080/"
        },
        "id": "diCgz_lMHcKG",
        "outputId": "99788ace-8b5f-42a6-d8cf-0b5460639bee"
      },
      "outputs": [
        {
          "name": "stdout",
          "output_type": "stream",
          "text": [
            "Number of countries from Western Europe: 8\n"
          ]
        }
      ],
      "source": [
        "# Count countries from west europe\n",
        "Countries_west_eur = df[df['sub_region'] == 'Western Europe']\n",
        "\n",
        "print(\"Number of countries from Western Europe:\", len(Countries_west_eur))"
      ]
    },
    {
      "cell_type": "markdown",
      "metadata": {
        "id": "GcEbMqeEJz7C"
      },
      "source": [
        "### 6. How many countries have not gained Independence?"
      ]
    },
    {
      "cell_type": "code",
      "execution_count": 15,
      "metadata": {
        "colab": {
          "base_uri": "https://localhost:8080/"
        },
        "id": "7Tf4Auy1JFUT",
        "outputId": "4040f80e-d62e-405e-9544-f80e9551f107"
      },
      "outputs": [
        {
          "name": "stdout",
          "output_type": "stream",
          "text": [
            "Number of countries that have not gained independence: 55\n"
          ]
        }
      ],
      "source": [
        "# Filter countries that have not gained independence\n",
        "Countries_no_ind = df[df['independence'] == False]\n",
        "                                                  \n",
        "print(\"Number of countries that have not gained independence:\", len(Countries_no_ind))"
      ]
    },
    {
      "cell_type": "markdown",
      "metadata": {
        "id": "96Ah-EeYLmsf"
      },
      "source": [
        "### 7. How many distinct continent and how many countries from each?"
      ]
    },
    {
      "cell_type": "code",
      "execution_count": 16,
      "metadata": {
        "colab": {
          "base_uri": "https://localhost:8080/",
          "height": 321
        },
        "id": "0inRAIKyKsCH",
        "outputId": "c6121b33-7708-4b58-ac61-43e66573db92"
      },
      "outputs": [
        {
          "name": "stdout",
          "output_type": "stream",
          "text": [
            "Number of distinct continents: 8\n",
            "\n",
            "Countries per continent:\n"
          ]
        },
        {
          "data": {
            "text/html": [
              "<div>\n",
              "<style scoped>\n",
              "    .dataframe tbody tr th:only-of-type {\n",
              "        vertical-align: middle;\n",
              "    }\n",
              "\n",
              "    .dataframe tbody tr th {\n",
              "        vertical-align: top;\n",
              "    }\n",
              "\n",
              "    .dataframe thead th {\n",
              "        text-align: right;\n",
              "    }\n",
              "</style>\n",
              "<table border=\"1\" class=\"dataframe\">\n",
              "  <thead>\n",
              "    <tr style=\"text-align: right;\">\n",
              "      <th></th>\n",
              "      <th>continent</th>\n",
              "      <th>No of countries</th>\n",
              "    </tr>\n",
              "  </thead>\n",
              "  <tbody>\n",
              "    <tr>\n",
              "      <th>0</th>\n",
              "      <td>Africa</td>\n",
              "      <td>58</td>\n",
              "    </tr>\n",
              "    <tr>\n",
              "      <th>1</th>\n",
              "      <td>Antarctica</td>\n",
              "      <td>5</td>\n",
              "    </tr>\n",
              "    <tr>\n",
              "      <th>2</th>\n",
              "      <td>Asia</td>\n",
              "      <td>50</td>\n",
              "    </tr>\n",
              "    <tr>\n",
              "      <th>3</th>\n",
              "      <td>Europe</td>\n",
              "      <td>52</td>\n",
              "    </tr>\n",
              "    <tr>\n",
              "      <th>4</th>\n",
              "      <td>Europe, Asia</td>\n",
              "      <td>3</td>\n",
              "    </tr>\n",
              "    <tr>\n",
              "      <th>5</th>\n",
              "      <td>North America</td>\n",
              "      <td>41</td>\n",
              "    </tr>\n",
              "    <tr>\n",
              "      <th>6</th>\n",
              "      <td>Oceania</td>\n",
              "      <td>27</td>\n",
              "    </tr>\n",
              "    <tr>\n",
              "      <th>7</th>\n",
              "      <td>South America</td>\n",
              "      <td>14</td>\n",
              "    </tr>\n",
              "  </tbody>\n",
              "</table>\n",
              "</div>"
            ],
            "text/plain": [
              "       continent  No of countries\n",
              "0         Africa               58\n",
              "1     Antarctica                5\n",
              "2           Asia               50\n",
              "3         Europe               52\n",
              "4   Europe, Asia                3\n",
              "5  North America               41\n",
              "6        Oceania               27\n",
              "7  South America               14"
            ]
          },
          "execution_count": 16,
          "metadata": {},
          "output_type": "execute_result"
        }
      ],
      "source": [
        "# Aggregate to find number of countries per continent\n",
        "continent_counts = df.groupby('continent')['country_name'].agg(['count']).reset_index()\n",
        "\n",
        "continent_counts = continent_counts.rename(columns={'count': 'No of countries'})\n",
        "\n",
        "# Count distinct continents\n",
        "num_distinct_continents = len(continent_counts)\n",
        "\n",
        "# Display results\n",
        "print(\"Number of distinct continents:\", num_distinct_continents)\n",
        "print(\"\\nCountries per continent:\")\n",
        "\n",
        "continent_counts"
      ]
    },
    {
      "cell_type": "markdown",
      "metadata": {
        "id": "Ccxq5-3jCZ1O"
      },
      "source": [
        "### 8. No. of countries where the week does not start on Monday"
      ]
    },
    {
      "cell_type": "code",
      "execution_count": 19,
      "metadata": {
        "colab": {
          "base_uri": "https://localhost:8080/"
        },
        "id": "pG_0Z3KY_Jjq",
        "outputId": "a62268c4-c887-4d79-80d3-b1a3c89fa405"
      },
      "outputs": [
        {
          "name": "stdout",
          "output_type": "stream",
          "text": [
            "Number of countries where the week does not start on Monday: 21\n"
          ]
        }
      ],
      "source": [
        "# Filter countries with startOfWeek not monday\n",
        "Country_week_start = df[df['startOfWeek'] != 'monday']\n",
        "\n",
        "print(\"Number of countries where the week does not start on Monday:\", len(Country_week_start))"
      ]
    },
    {
      "cell_type": "markdown",
      "metadata": {
        "id": "IYQaxh6sDH3g"
      },
      "source": [
        "### 9. How many countries are not UN members?"
      ]
    },
    {
      "cell_type": "code",
      "execution_count": 22,
      "metadata": {
        "colab": {
          "base_uri": "https://localhost:8080/"
        },
        "id": "cQt3qE0HCOjm",
        "outputId": "12163894-c8ab-4c02-804d-9f4c452170aa"
      },
      "outputs": [
        {
          "name": "stdout",
          "output_type": "stream",
          "text": [
            "Number of countries that are not UN members: 58\n"
          ]
        }
      ],
      "source": [
        "# Filter countries not UN members\n",
        "Country_notUN_members = df[df['united_nation_members'] != True]\n",
        "\n",
        "print(\"Number of countries that are not UN members:\", len(Country_notUN_members))"
      ]
    },
    {
      "cell_type": "markdown",
      "metadata": {
        "id": "nDqCyZJhE24z"
      },
      "source": [
        "### 10. How many countries are UN members?"
      ]
    },
    {
      "cell_type": "code",
      "execution_count": 23,
      "metadata": {
        "colab": {
          "base_uri": "https://localhost:8080/"
        },
        "id": "Ehaf1i8REa2h",
        "outputId": "e5b83934-6364-46f3-bdc7-d3cfdf648101"
      },
      "outputs": [
        {
          "name": "stdout",
          "output_type": "stream",
          "text": [
            "Number of countries that are UN members: 192\n"
          ]
        }
      ],
      "source": [
        "# Filter countries that are UN members\n",
        "Country_UN_members = df[df['united_nation_members'] == True]\n",
        "\n",
        "print(\"Number of countries that are UN members:\", len(Country_UN_members))"
      ]
    },
    {
      "cell_type": "markdown",
      "metadata": {
        "id": "fK5j93MXsZPN"
      },
      "source": [
        "### 11. List 2 countries with the lowest population for each continent"
      ]
    },
    {
      "cell_type": "code",
      "execution_count": 26,
      "metadata": {
        "colab": {
          "base_uri": "https://localhost:8080/",
          "height": 506
        },
        "id": "b1bXnmz-E_qn",
        "outputId": "472a1963-0dc3-4595-b21a-282a334b375f"
      },
      "outputs": [
        {
          "name": "stdout",
          "output_type": "stream",
          "text": [
            "Two countries with lowest population for each continent:\n"
          ]
        },
        {
          "data": {
            "text/html": [
              "<div>\n",
              "<style scoped>\n",
              "    .dataframe tbody tr th:only-of-type {\n",
              "        vertical-align: middle;\n",
              "    }\n",
              "\n",
              "    .dataframe tbody tr th {\n",
              "        vertical-align: top;\n",
              "    }\n",
              "\n",
              "    .dataframe thead th {\n",
              "        text-align: right;\n",
              "    }\n",
              "</style>\n",
              "<table border=\"1\" class=\"dataframe\">\n",
              "  <thead>\n",
              "    <tr style=\"text-align: right;\">\n",
              "      <th></th>\n",
              "      <th>continent</th>\n",
              "      <th>country_name</th>\n",
              "      <th>population</th>\n",
              "    </tr>\n",
              "  </thead>\n",
              "  <tbody>\n",
              "    <tr>\n",
              "      <th>0</th>\n",
              "      <td>Africa</td>\n",
              "      <td>Saint Helena, Ascension and Tristan da Cunha</td>\n",
              "      <td>53192</td>\n",
              "    </tr>\n",
              "    <tr>\n",
              "      <th>1</th>\n",
              "      <td>Africa</td>\n",
              "      <td>Seychelles</td>\n",
              "      <td>98462</td>\n",
              "    </tr>\n",
              "    <tr>\n",
              "      <th>2</th>\n",
              "      <td>Antarctica</td>\n",
              "      <td>Bouvet Island</td>\n",
              "      <td>0</td>\n",
              "    </tr>\n",
              "    <tr>\n",
              "      <th>3</th>\n",
              "      <td>Antarctica</td>\n",
              "      <td>Heard Island and McDonald Islands</td>\n",
              "      <td>0</td>\n",
              "    </tr>\n",
              "    <tr>\n",
              "      <th>4</th>\n",
              "      <td>Asia</td>\n",
              "      <td>Cocos (Keeling) Islands</td>\n",
              "      <td>544</td>\n",
              "    </tr>\n",
              "    <tr>\n",
              "      <th>5</th>\n",
              "      <td>Asia</td>\n",
              "      <td>Christmas Island</td>\n",
              "      <td>2072</td>\n",
              "    </tr>\n",
              "    <tr>\n",
              "      <th>6</th>\n",
              "      <td>Europe</td>\n",
              "      <td>Vatican City</td>\n",
              "      <td>451</td>\n",
              "    </tr>\n",
              "    <tr>\n",
              "      <th>7</th>\n",
              "      <td>Europe</td>\n",
              "      <td>Svalbard and Jan Mayen</td>\n",
              "      <td>2562</td>\n",
              "    </tr>\n",
              "    <tr>\n",
              "      <th>8</th>\n",
              "      <td>Europe, Asia</td>\n",
              "      <td>Azerbaijan</td>\n",
              "      <td>10110116</td>\n",
              "    </tr>\n",
              "    <tr>\n",
              "      <th>9</th>\n",
              "      <td>Europe, Asia</td>\n",
              "      <td>Turkey</td>\n",
              "      <td>84339067</td>\n",
              "    </tr>\n",
              "    <tr>\n",
              "      <th>10</th>\n",
              "      <td>North America</td>\n",
              "      <td>Saint Barthélemy</td>\n",
              "      <td>4255</td>\n",
              "    </tr>\n",
              "    <tr>\n",
              "      <th>11</th>\n",
              "      <td>North America</td>\n",
              "      <td>Montserrat</td>\n",
              "      <td>4922</td>\n",
              "    </tr>\n",
              "    <tr>\n",
              "      <th>12</th>\n",
              "      <td>Oceania</td>\n",
              "      <td>Pitcairn Islands</td>\n",
              "      <td>56</td>\n",
              "    </tr>\n",
              "    <tr>\n",
              "      <th>13</th>\n",
              "      <td>Oceania</td>\n",
              "      <td>United States Minor Outlying Islands</td>\n",
              "      <td>300</td>\n",
              "    </tr>\n",
              "    <tr>\n",
              "      <th>14</th>\n",
              "      <td>South America</td>\n",
              "      <td>Falkland Islands</td>\n",
              "      <td>2563</td>\n",
              "    </tr>\n",
              "    <tr>\n",
              "      <th>15</th>\n",
              "      <td>South America</td>\n",
              "      <td>French Guiana</td>\n",
              "      <td>254541</td>\n",
              "    </tr>\n",
              "  </tbody>\n",
              "</table>\n",
              "</div>"
            ],
            "text/plain": [
              "        continent                                  country_name  population\n",
              "0          Africa  Saint Helena, Ascension and Tristan da Cunha       53192\n",
              "1          Africa                                    Seychelles       98462\n",
              "2      Antarctica                                 Bouvet Island           0\n",
              "3      Antarctica             Heard Island and McDonald Islands           0\n",
              "4            Asia                       Cocos (Keeling) Islands         544\n",
              "5            Asia                              Christmas Island        2072\n",
              "6          Europe                                  Vatican City         451\n",
              "7          Europe                        Svalbard and Jan Mayen        2562\n",
              "8    Europe, Asia                                    Azerbaijan    10110116\n",
              "9    Europe, Asia                                        Turkey    84339067\n",
              "10  North America                              Saint Barthélemy        4255\n",
              "11  North America                                    Montserrat        4922\n",
              "12        Oceania                              Pitcairn Islands          56\n",
              "13        Oceania          United States Minor Outlying Islands         300\n",
              "14  South America                              Falkland Islands        2563\n",
              "15  South America                                 French Guiana      254541"
            ]
          },
          "execution_count": 26,
          "metadata": {},
          "output_type": "execute_result"
        }
      ],
      "source": [
        "# Sort DataFrame by population within each continent\n",
        "df_sorted = df.sort_values(by=['continent', 'population'])\n",
        "\n",
        "# Group by continent and select top 2 countries with lowest population\n",
        "top_countries_per_continent = df_sorted.groupby('continent').head(2)\n",
        "\n",
        "# Display the results\n",
        "print(\"Two countries with lowest population for each continent:\")\n",
        "top_countries_per_continent[['continent', 'country_name', 'population']].reset_index(drop = True)"
      ]
    },
    {
      "cell_type": "markdown",
      "metadata": {
        "id": "OSMU0B4csvrm"
      },
      "source": [
        "### 12. List 2 countries with the largest Area for each Continent"
      ]
    },
    {
      "cell_type": "code",
      "execution_count": 37,
      "metadata": {
        "colab": {
          "base_uri": "https://localhost:8080/",
          "height": 506
        },
        "id": "ZvFShKU7GbAP",
        "outputId": "b20ee46f-fa78-4a4d-a9f9-f160b71a574f"
      },
      "outputs": [
        {
          "name": "stdout",
          "output_type": "stream",
          "text": [
            "Two countries with largest area for each continent:\n"
          ]
        },
        {
          "data": {
            "text/html": [
              "<div>\n",
              "<style scoped>\n",
              "    .dataframe tbody tr th:only-of-type {\n",
              "        vertical-align: middle;\n",
              "    }\n",
              "\n",
              "    .dataframe tbody tr th {\n",
              "        vertical-align: top;\n",
              "    }\n",
              "\n",
              "    .dataframe thead th {\n",
              "        text-align: right;\n",
              "    }\n",
              "</style>\n",
              "<table border=\"1\" class=\"dataframe\">\n",
              "  <thead>\n",
              "    <tr style=\"text-align: right;\">\n",
              "      <th></th>\n",
              "      <th>continent</th>\n",
              "      <th>country_name</th>\n",
              "      <th>area</th>\n",
              "    </tr>\n",
              "  </thead>\n",
              "  <tbody>\n",
              "    <tr>\n",
              "      <th>0</th>\n",
              "      <td>Africa</td>\n",
              "      <td>Algeria</td>\n",
              "      <td>2381741.0</td>\n",
              "    </tr>\n",
              "    <tr>\n",
              "      <th>1</th>\n",
              "      <td>Africa</td>\n",
              "      <td>DR Congo</td>\n",
              "      <td>2344858.0</td>\n",
              "    </tr>\n",
              "    <tr>\n",
              "      <th>2</th>\n",
              "      <td>Antarctica</td>\n",
              "      <td>Antarctica</td>\n",
              "      <td>14000000.0</td>\n",
              "    </tr>\n",
              "    <tr>\n",
              "      <th>3</th>\n",
              "      <td>Antarctica</td>\n",
              "      <td>French Southern and Antarctic Lands</td>\n",
              "      <td>7747.0</td>\n",
              "    </tr>\n",
              "    <tr>\n",
              "      <th>4</th>\n",
              "      <td>Asia</td>\n",
              "      <td>China</td>\n",
              "      <td>9706961.0</td>\n",
              "    </tr>\n",
              "    <tr>\n",
              "      <th>5</th>\n",
              "      <td>Asia</td>\n",
              "      <td>India</td>\n",
              "      <td>3287590.0</td>\n",
              "    </tr>\n",
              "    <tr>\n",
              "      <th>6</th>\n",
              "      <td>Europe</td>\n",
              "      <td>Ukraine</td>\n",
              "      <td>603500.0</td>\n",
              "    </tr>\n",
              "    <tr>\n",
              "      <th>7</th>\n",
              "      <td>Europe</td>\n",
              "      <td>France</td>\n",
              "      <td>551695.0</td>\n",
              "    </tr>\n",
              "    <tr>\n",
              "      <th>8</th>\n",
              "      <td>Europe, Asia</td>\n",
              "      <td>Russia</td>\n",
              "      <td>17098242.0</td>\n",
              "    </tr>\n",
              "    <tr>\n",
              "      <th>9</th>\n",
              "      <td>Europe, Asia</td>\n",
              "      <td>Turkey</td>\n",
              "      <td>783562.0</td>\n",
              "    </tr>\n",
              "    <tr>\n",
              "      <th>10</th>\n",
              "      <td>North America</td>\n",
              "      <td>Canada</td>\n",
              "      <td>9984670.0</td>\n",
              "    </tr>\n",
              "    <tr>\n",
              "      <th>11</th>\n",
              "      <td>North America</td>\n",
              "      <td>United States</td>\n",
              "      <td>9372610.0</td>\n",
              "    </tr>\n",
              "    <tr>\n",
              "      <th>12</th>\n",
              "      <td>Oceania</td>\n",
              "      <td>Australia</td>\n",
              "      <td>7692024.0</td>\n",
              "    </tr>\n",
              "    <tr>\n",
              "      <th>13</th>\n",
              "      <td>Oceania</td>\n",
              "      <td>Papua New Guinea</td>\n",
              "      <td>462840.0</td>\n",
              "    </tr>\n",
              "    <tr>\n",
              "      <th>14</th>\n",
              "      <td>South America</td>\n",
              "      <td>Brazil</td>\n",
              "      <td>8515767.0</td>\n",
              "    </tr>\n",
              "    <tr>\n",
              "      <th>15</th>\n",
              "      <td>South America</td>\n",
              "      <td>Argentina</td>\n",
              "      <td>2780400.0</td>\n",
              "    </tr>\n",
              "  </tbody>\n",
              "</table>\n",
              "</div>"
            ],
            "text/plain": [
              "        continent                         country_name        area\n",
              "0          Africa                              Algeria   2381741.0\n",
              "1          Africa                             DR Congo   2344858.0\n",
              "2      Antarctica                           Antarctica  14000000.0\n",
              "3      Antarctica  French Southern and Antarctic Lands      7747.0\n",
              "4            Asia                                China   9706961.0\n",
              "5            Asia                                India   3287590.0\n",
              "6          Europe                              Ukraine    603500.0\n",
              "7          Europe                               France    551695.0\n",
              "8    Europe, Asia                               Russia  17098242.0\n",
              "9    Europe, Asia                               Turkey    783562.0\n",
              "10  North America                               Canada   9984670.0\n",
              "11  North America                        United States   9372610.0\n",
              "12        Oceania                            Australia   7692024.0\n",
              "13        Oceania                     Papua New Guinea    462840.0\n",
              "14  South America                               Brazil   8515767.0\n",
              "15  South America                            Argentina   2780400.0"
            ]
          },
          "execution_count": 37,
          "metadata": {},
          "output_type": "execute_result"
        }
      ],
      "source": [
        "# Sort DataFrame by population within each continent\n",
        "df_sorted = df.sort_values(by=['continent', 'area'], ascending= [True, False])\n",
        "\n",
        "# Group by continent and select 2 countries with Largest Area\n",
        "countries_per_continent = df_sorted.groupby('continent').head(2)\n",
        "\n",
        "# Display the results\n",
        "print(\"Two countries with largest area for each continent:\")\n",
        "countries_per_continent[['continent', 'country_name', 'area']].reset_index(drop=True)"
      ]
    },
    {
      "cell_type": "markdown",
      "metadata": {
        "id": "QUnoHjAivPtW"
      },
      "source": [
        "### 13. Top 5 countries with the Largest Area"
      ]
    },
    {
      "cell_type": "code",
      "execution_count": 35,
      "metadata": {
        "colab": {
          "base_uri": "https://localhost:8080/",
          "height": 206
        },
        "id": "7ALDGp6EHedt",
        "outputId": "b031ec6f-ab95-4324-ae28-2ce67ce46264"
      },
      "outputs": [
        {
          "name": "stdout",
          "output_type": "stream",
          "text": [
            "Top 5 countries with the largest Area:\n"
          ]
        },
        {
          "data": {
            "text/html": [
              "<div>\n",
              "<style scoped>\n",
              "    .dataframe tbody tr th:only-of-type {\n",
              "        vertical-align: middle;\n",
              "    }\n",
              "\n",
              "    .dataframe tbody tr th {\n",
              "        vertical-align: top;\n",
              "    }\n",
              "\n",
              "    .dataframe thead th {\n",
              "        text-align: right;\n",
              "    }\n",
              "</style>\n",
              "<table border=\"1\" class=\"dataframe\">\n",
              "  <thead>\n",
              "    <tr style=\"text-align: right;\">\n",
              "      <th></th>\n",
              "      <th>country_name</th>\n",
              "      <th>area</th>\n",
              "    </tr>\n",
              "  </thead>\n",
              "  <tbody>\n",
              "    <tr>\n",
              "      <th>0</th>\n",
              "      <td>Russia</td>\n",
              "      <td>17098242.0</td>\n",
              "    </tr>\n",
              "    <tr>\n",
              "      <th>1</th>\n",
              "      <td>Antarctica</td>\n",
              "      <td>14000000.0</td>\n",
              "    </tr>\n",
              "    <tr>\n",
              "      <th>2</th>\n",
              "      <td>Canada</td>\n",
              "      <td>9984670.0</td>\n",
              "    </tr>\n",
              "    <tr>\n",
              "      <th>3</th>\n",
              "      <td>China</td>\n",
              "      <td>9706961.0</td>\n",
              "    </tr>\n",
              "    <tr>\n",
              "      <th>4</th>\n",
              "      <td>United States</td>\n",
              "      <td>9372610.0</td>\n",
              "    </tr>\n",
              "  </tbody>\n",
              "</table>\n",
              "</div>"
            ],
            "text/plain": [
              "    country_name        area\n",
              "0         Russia  17098242.0\n",
              "1     Antarctica  14000000.0\n",
              "2         Canada   9984670.0\n",
              "3          China   9706961.0\n",
              "4  United States   9372610.0"
            ]
          },
          "execution_count": 35,
          "metadata": {},
          "output_type": "execute_result"
        }
      ],
      "source": [
        "# Sort the DataFrame by 'Area' column in descending order and select top 5\n",
        "top_5_countries = df.nlargest(5, 'area').reset_index()\n",
        "\n",
        "# Result\n",
        "print('Top 5 countries with the largest Area:')\n",
        "top_5_countries[['country_name', 'area']]"
      ]
    },
    {
      "cell_type": "markdown",
      "metadata": {
        "id": "Rs5Slg_6vGtP"
      },
      "source": [
        "### 14. Top 5 countries with the lowest Area"
      ]
    },
    {
      "cell_type": "code",
      "execution_count": 34,
      "metadata": {
        "colab": {
          "base_uri": "https://localhost:8080/",
          "height": 206
        },
        "id": "SV5pDgXquS5u",
        "outputId": "befdafe2-3a72-453f-855f-8b7f5458a790"
      },
      "outputs": [
        {
          "name": "stdout",
          "output_type": "stream",
          "text": [
            "Top 5 countries with the lowest Area:\n"
          ]
        },
        {
          "data": {
            "text/html": [
              "<div>\n",
              "<style scoped>\n",
              "    .dataframe tbody tr th:only-of-type {\n",
              "        vertical-align: middle;\n",
              "    }\n",
              "\n",
              "    .dataframe tbody tr th {\n",
              "        vertical-align: top;\n",
              "    }\n",
              "\n",
              "    .dataframe thead th {\n",
              "        text-align: right;\n",
              "    }\n",
              "</style>\n",
              "<table border=\"1\" class=\"dataframe\">\n",
              "  <thead>\n",
              "    <tr style=\"text-align: right;\">\n",
              "      <th></th>\n",
              "      <th>country_name</th>\n",
              "      <th>area</th>\n",
              "    </tr>\n",
              "  </thead>\n",
              "  <tbody>\n",
              "    <tr>\n",
              "      <th>0</th>\n",
              "      <td>Vatican City</td>\n",
              "      <td>0.44</td>\n",
              "    </tr>\n",
              "    <tr>\n",
              "      <th>1</th>\n",
              "      <td>Monaco</td>\n",
              "      <td>2.02</td>\n",
              "    </tr>\n",
              "    <tr>\n",
              "      <th>2</th>\n",
              "      <td>Gibraltar</td>\n",
              "      <td>6.00</td>\n",
              "    </tr>\n",
              "    <tr>\n",
              "      <th>3</th>\n",
              "      <td>Tokelau</td>\n",
              "      <td>12.00</td>\n",
              "    </tr>\n",
              "    <tr>\n",
              "      <th>4</th>\n",
              "      <td>Cocos (Keeling) Islands</td>\n",
              "      <td>14.00</td>\n",
              "    </tr>\n",
              "  </tbody>\n",
              "</table>\n",
              "</div>"
            ],
            "text/plain": [
              "              country_name   area\n",
              "0             Vatican City   0.44\n",
              "1                   Monaco   2.02\n",
              "2                Gibraltar   6.00\n",
              "3                  Tokelau  12.00\n",
              "4  Cocos (Keeling) Islands  14.00"
            ]
          },
          "execution_count": 34,
          "metadata": {},
          "output_type": "execute_result"
        }
      ],
      "source": [
        "# Sort the DataFrame by 'Area' column in ascending order and select bottom 5\n",
        "bottom_5_countries = df.nsmallest(5, 'area').reset_index()\n",
        "\n",
        "print('Top 5 countries with the lowest Area:')\n",
        "bottom_5_countries[['country_name', 'area']]"
      ]
    }
  ],
  "metadata": {
    "colab": {
      "authorship_tag": "ABX9TyP5CTywhmWo3mhE32FYIAkB",
      "provenance": []
    },
    "kernelspec": {
      "display_name": "Python 3",
      "name": "python3"
    },
    "language_info": {
      "codemirror_mode": {
        "name": "ipython",
        "version": 3
      },
      "file_extension": ".py",
      "mimetype": "text/x-python",
      "name": "python",
      "nbconvert_exporter": "python",
      "pygments_lexer": "ipython3",
      "version": "3.12.2"
    }
  },
  "nbformat": 4,
  "nbformat_minor": 0
}
